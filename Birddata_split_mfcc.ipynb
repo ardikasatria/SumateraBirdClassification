{
  "nbformat": 4,
  "nbformat_minor": 0,
  "metadata": {
    "colab": {
      "name": "Birddata_split_mfcc.ipynb",
      "provenance": []
    },
    "kernelspec": {
      "name": "python3",
      "display_name": "Python 3"
    },
    "language_info": {
      "name": "python"
    }
  },
  "cells": [
    {
      "cell_type": "code",
      "metadata": {
        "id": "1TkDZz12uFhh"
      },
      "source": [
        "import os\n",
        "from random import sample"
      ],
      "execution_count": 1,
      "outputs": []
    },
    {
      "cell_type": "code",
      "metadata": {
        "colab": {
          "base_uri": "https://localhost:8080/"
        },
        "id": "xlqDQIhitwtA",
        "outputId": "b0e4a46c-6589-482d-abf3-716d4af8eccb"
      },
      "source": [
        "# define number of files for all sets\n",
        "train = 0.7 # 70% of all sound should be in the train set\n",
        "val = 0.15 # 15% validation set\n",
        "test = 0.15 # 15% validation set\n",
        "basePath=\"/content/drive/MyDrive/Download_Birds_Data/\"\n",
        "imPath = \"/content/drive/MyDrive/Birddata_mfcc/\"\n",
        "                                \n",
        "destPath = \"/content/drive/MyDrive/Birddata_split/mfcc/\" \n",
        "\n",
        "birds=[]\n",
        "singleBirdList=[]\n",
        "allFilesList=[]\n",
        "for root, dirs, files in os.walk(basePath):\n",
        "    if root == basePath:\n",
        "        birds=dirs\n",
        "print(birds)\n",
        "\n",
        "trainSet=[]\n",
        "valSet=[]\n",
        "testSet=[]\n",
        "\n",
        "birdsShort=[] # list of short file names\n",
        "birdNumber=0\n",
        "for nr,bird in enumerate(birds):\n",
        "    for root, dirs, files in os.walk(basePath+bird):\n",
        "        for file in files:\n",
        "            if file.endswith(\".wav\"):\n",
        "                singleBirdList.append(os.path.join(root, file))\n",
        "    if len(singleBirdList) > 50:\n",
        "        birdsShort.append(str(birdNumber)+bird[:5])\n",
        "        birdNumber = birdNumber+1;\n",
        "        print(\"Found \", len(singleBirdList), ' wav files for ', bird)\n",
        "        trainSet.append(int(train*len(singleBirdList)))\n",
        "        valSet.append(int(val*len(singleBirdList)))\n",
        "        roundDiff = len(singleBirdList)-(int(train*len(singleBirdList))+int(test*len(singleBirdList))+int(val*len(singleBirdList))) \n",
        "        testSet.append(int(test*len(singleBirdList)) + roundDiff)\n",
        "        print(\"Size of train: \", int(train*len(singleBirdList)),\", val: \",int(val*len(singleBirdList)),\", test: \",int(test*len(singleBirdList)))\n",
        "        allFilesList.append(singleBirdList)\n",
        "    singleBirdList=[]\n",
        "\n",
        "\n",
        "print(trainSet)\n",
        "print(valSet)\n",
        "print(testSet)"
      ],
      "execution_count": 2,
      "outputs": [
        {
          "output_type": "stream",
          "name": "stdout",
          "text": [
            "['Dryocopusjavensis', 'Caprimulgusmacrurus', 'Pnoepygapusilla', 'Malacocinclamalaccensis', 'Anthipessolitaris', 'Orthotomussericeus', 'Pycnonotusplumosus', 'Malacocinclasepiaria', 'Malacopteronaffine', 'Pachycephalacinerea', 'Pycnonotuserythropthalmos', 'Corvusenca', 'Elanuscaeruleus', 'Anthracocerosalbirostris', 'Dicrurusparadiseus']\n",
            "Found  126  wav files for  Dryocopusjavensis\n",
            "Size of train:  88 , val:  18 , test:  18\n",
            "Found  183  wav files for  Caprimulgusmacrurus\n",
            "Size of train:  128 , val:  27 , test:  27\n",
            "Found  212  wav files for  Pnoepygapusilla\n",
            "Size of train:  148 , val:  31 , test:  31\n",
            "Found  52  wav files for  Malacocinclamalaccensis\n",
            "Size of train:  36 , val:  7 , test:  7\n",
            "Found  57  wav files for  Anthipessolitaris\n",
            "Size of train:  39 , val:  8 , test:  8\n",
            "Found  122  wav files for  Orthotomussericeus\n",
            "Size of train:  85 , val:  18 , test:  18\n",
            "Found  52  wav files for  Pycnonotusplumosus\n",
            "Size of train:  36 , val:  7 , test:  7\n",
            "Found  108  wav files for  Malacocinclasepiaria\n",
            "Size of train:  75 , val:  16 , test:  16\n",
            "Found  85  wav files for  Malacopteronaffine\n",
            "Size of train:  59 , val:  12 , test:  12\n",
            "Found  73  wav files for  Pachycephalacinerea\n",
            "Size of train:  51 , val:  10 , test:  10\n",
            "Found  79  wav files for  Pycnonotuserythropthalmos\n",
            "Size of train:  55 , val:  11 , test:  11\n",
            "Found  122  wav files for  Corvusenca\n",
            "Size of train:  85 , val:  18 , test:  18\n",
            "Found  247  wav files for  Elanuscaeruleus\n",
            "Size of train:  172 , val:  37 , test:  37\n",
            "Found  82  wav files for  Anthracocerosalbirostris\n",
            "Size of train:  57 , val:  12 , test:  12\n",
            "Found  124  wav files for  Dicrurusparadiseus\n",
            "Size of train:  86 , val:  18 , test:  18\n",
            "[88, 128, 148, 36, 39, 85, 36, 75, 59, 51, 55, 85, 172, 57, 86]\n",
            "[18, 27, 31, 7, 8, 18, 7, 16, 12, 10, 11, 18, 37, 12, 18]\n",
            "[20, 28, 33, 9, 10, 19, 9, 17, 14, 12, 13, 19, 38, 13, 20]\n"
          ]
        }
      ]
    },
    {
      "cell_type": "code",
      "metadata": {
        "colab": {
          "base_uri": "https://localhost:8080/"
        },
        "id": "HMy3Rg67uQ3S",
        "outputId": "e097f369-0edf-4c98-ddbc-94f207eee5a7"
      },
      "source": [
        "# randomly choose wav files for each set  \n",
        "trainFiles=[]\n",
        "valFiles=[]\n",
        "testFiles=[]\n",
        "\n",
        "for index, singleBirdList in enumerate(allFilesList):\n",
        "    randFiles = sample(range(len(singleBirdList)), len(singleBirdList))\n",
        "    start = 0\n",
        "    end = trainSet[index]\n",
        "    trainFiles.append(randFiles[start:end])\n",
        "    start = end \n",
        "    end = start + valSet[index]\n",
        "    valFiles.append(randFiles[start:end])\n",
        "    start = end \n",
        "    end = start + testSet[index] \n",
        "    testFiles.append(randFiles[start:end])\n",
        "    print(\"Selected random files number:\\n train: \", len(trainFiles[index]),\"/\",trainSet[index],\n",
        "          \", val: \",len(valFiles[index]),\"/\",valSet[index],\n",
        "          \", test: \",len(testFiles[index]),\"/\",testSet[index])"
      ],
      "execution_count": 3,
      "outputs": [
        {
          "output_type": "stream",
          "name": "stdout",
          "text": [
            "Selected random files number:\n",
            " train:  88 / 88 , val:  18 / 18 , test:  20 / 20\n",
            "Selected random files number:\n",
            " train:  128 / 128 , val:  27 / 27 , test:  28 / 28\n",
            "Selected random files number:\n",
            " train:  148 / 148 , val:  31 / 31 , test:  33 / 33\n",
            "Selected random files number:\n",
            " train:  36 / 36 , val:  7 / 7 , test:  9 / 9\n",
            "Selected random files number:\n",
            " train:  39 / 39 , val:  8 / 8 , test:  10 / 10\n",
            "Selected random files number:\n",
            " train:  85 / 85 , val:  18 / 18 , test:  19 / 19\n",
            "Selected random files number:\n",
            " train:  36 / 36 , val:  7 / 7 , test:  9 / 9\n",
            "Selected random files number:\n",
            " train:  75 / 75 , val:  16 / 16 , test:  17 / 17\n",
            "Selected random files number:\n",
            " train:  59 / 59 , val:  12 / 12 , test:  14 / 14\n",
            "Selected random files number:\n",
            " train:  51 / 51 , val:  10 / 10 , test:  12 / 12\n",
            "Selected random files number:\n",
            " train:  55 / 55 , val:  11 / 11 , test:  13 / 13\n",
            "Selected random files number:\n",
            " train:  85 / 85 , val:  18 / 18 , test:  19 / 19\n",
            "Selected random files number:\n",
            " train:  172 / 172 , val:  37 / 37 , test:  38 / 38\n",
            "Selected random files number:\n",
            " train:  57 / 57 , val:  12 / 12 , test:  13 / 13\n",
            "Selected random files number:\n",
            " train:  86 / 86 , val:  18 / 18 , test:  20 / 20\n"
          ]
        }
      ]
    },
    {
      "cell_type": "code",
      "metadata": {
        "id": "lY_-z5DauTu6"
      },
      "source": [
        "def extractName(string):\n",
        "    return string.rsplit('/',1)[1].replace(' ', '')[:-4]"
      ],
      "execution_count": 4,
      "outputs": []
    },
    {
      "cell_type": "code",
      "metadata": {
        "id": "IexktNoKzvrn"
      },
      "source": [
        "# sort all the lists to make copying files easier\n",
        "sets=[trainFiles,valFiles,testFiles]\n",
        "for fileSet in sets:\n",
        "    for index,files in enumerate(fileSet):\n",
        "        fileSet[index].sort()"
      ],
      "execution_count": 5,
      "outputs": []
    },
    {
      "cell_type": "code",
      "metadata": {
        "colab": {
          "base_uri": "https://localhost:8080/"
        },
        "id": "gyMOEx3fzzsI",
        "outputId": "71a148c6-a7eb-4d77-86f7-c390c71b81e1"
      },
      "source": [
        "# change full names to short\n",
        "\n",
        "for root, dirs, files in os.walk(basePath):\n",
        "    if root == basePath:\n",
        "        birds=dirs\n",
        "#birdsShort=[]\n",
        "#for bird in birds:\n",
        "#    birdsShort.append(bird[:5])\n",
        "\n",
        "setNames = [\"train/\",\"val/\",\"test/\"]\n",
        "\n",
        "print(\"Long: \", birds,\"\\nShort: \",birdsShort)"
      ],
      "execution_count": 6,
      "outputs": [
        {
          "output_type": "stream",
          "name": "stdout",
          "text": [
            "Long:  ['Dryocopusjavensis', 'Caprimulgusmacrurus', 'Pnoepygapusilla', 'Malacocinclamalaccensis', 'Anthipessolitaris', 'Orthotomussericeus', 'Pycnonotusplumosus', 'Malacocinclasepiaria', 'Malacopteronaffine', 'Pachycephalacinerea', 'Pycnonotuserythropthalmos', 'Corvusenca', 'Elanuscaeruleus', 'Anthracocerosalbirostris', 'Dicrurusparadiseus'] \n",
            "Short:  ['0Dryoc', '1Capri', '2Pnoep', '3Malac', '4Anthi', '5Ortho', '6Pycno', '7Malac', '8Malac', '9Pachy', '10Pycno', '11Corvu', '12Elanu', '13Anthr', '14Dicru']\n"
          ]
        }
      ]
    },
    {
      "cell_type": "code",
      "metadata": {
        "colab": {
          "base_uri": "https://localhost:8080/"
        },
        "id": "53iJp5rNz01Z",
        "outputId": "c33b9639-b35d-445c-983c-a6e575b1b1fb"
      },
      "source": [
        "import shutil\n",
        "\n",
        "counter=0\n",
        "for birdNumber, bird in enumerate(birdsShort): # for each class (bird) check where the file should be copied\n",
        "    print(counter)\n",
        "    counter=0\n",
        "    for setName, fileSet in zip(setNames, sets): # check for all datasets: train, val and test sests \n",
        "        for setNumber in fileSet[birdNumber]:\n",
        "            \n",
        "            for fileNumber, file in enumerate(allFilesList[birdNumber]):\n",
        "                if setNumber == fileNumber: # if file number to copy is same as number of file, then copy it\n",
        "                    \n",
        "                    for root, dirs, files in os.walk(imPath):\n",
        "                        for file2 in files:\n",
        "                            if extractName(file) in file2:\n",
        "                                counter=counter+1\n",
        "                                source=root+\"/\"+file2\n",
        "                                \n",
        "                                destination = destPath+setName+bird+\"/\"\n",
        "                                if not os.path.exists(destination):\n",
        "                                    os.makedirs(destination)\n",
        "                                shutil.copy2(source, destination)"
      ],
      "execution_count": 7,
      "outputs": [
        {
          "output_type": "stream",
          "name": "stdout",
          "text": [
            "0\n",
            "887\n",
            "1537\n",
            "1770\n",
            "432\n",
            "565\n",
            "812\n",
            "323\n",
            "826\n",
            "807\n",
            "560\n",
            "512\n",
            "797\n",
            "1995\n",
            "568\n"
          ]
        }
      ]
    }
  ]
}